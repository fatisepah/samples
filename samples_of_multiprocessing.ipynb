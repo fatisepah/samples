{
  "nbformat": 4,
  "nbformat_minor": 0,
  "metadata": {
    "colab": {
      "provenance": [],
      "authorship_tag": "ABX9TyOfgMqYNDmK66z1dkgFoAWs",
      "include_colab_link": true
    },
    "kernelspec": {
      "name": "python3",
      "display_name": "Python 3"
    },
    "language_info": {
      "name": "python"
    }
  },
  "cells": [
    {
      "cell_type": "markdown",
      "metadata": {
        "id": "view-in-github",
        "colab_type": "text"
      },
      "source": [
        "<a href=\"https://colab.research.google.com/github/fatisepah/samples/blob/main/samples_of_multiprocessing.ipynb\" target=\"_parent\"><img src=\"https://colab.research.google.com/assets/colab-badge.svg\" alt=\"Open In Colab\"/></a>"
      ]
    },
    {
      "cell_type": "code",
      "execution_count": 3,
      "metadata": {
        "colab": {
          "base_uri": "https://localhost:8080/"
        },
        "id": "Mq0s8k_qXJNe",
        "outputId": "84493d77-c5dd-49b2-8eb3-86ed369e37f1"
      },
      "outputs": [
        {
          "output_type": "stream",
          "name": "stdout",
          "text": [
            "1\n",
            "4\n",
            "9\n",
            "16\n",
            "25\n",
            "36\n"
          ]
        }
      ],
      "source": [
        "from multiprocessing import Pool\n",
        "def f(a):\n",
        "    return a*a\n",
        "\n",
        "with Pool() as mp_pool:\n",
        "    results = mp_pool.map(f, [1,2,3,4,5,6])\n",
        "    for rr in results:\n",
        "      print(rr)"
      ]
    },
    {
      "cell_type": "code",
      "source": [
        "from functools import partial\n",
        "import multiprocessing\n",
        "def f(a,b,c):\n",
        "    return a*a+b+c\n",
        "p = multiprocessing.Pool(1)\n",
        "targefun = partial(f,b=3,c=5)\n",
        "CurrEval = p.map(targefun, [1,2,3,4,5,6])\n",
        "\n",
        "p.terminate()\n",
        "p.join()\n",
        "print(CurrEval)"
      ],
      "metadata": {
        "colab": {
          "base_uri": "https://localhost:8080/"
        },
        "id": "gVabHABJdiD_",
        "outputId": "5043f740-2531-452b-a075-a79473d070cd"
      },
      "execution_count": 4,
      "outputs": [
        {
          "output_type": "stream",
          "name": "stdout",
          "text": [
            "[9, 12, 17, 24, 33, 44]\n"
          ]
        }
      ]
    },
    {
      "cell_type": "code",
      "source": [
        "from functools import partial\n",
        "import multiprocessing\n",
        "def CallKernel(f,c,Inputs,Weights,Bias):\n",
        "    return Mul(inputs[c,:,:],weights[f,c,:,:])+bias[f])\n",
        "        \n",
        "\n",
        "p = multiprocessing.Pool(1)\n",
        "targefun = partial(f,c,Inputs,Weights,Bias)\n",
        "CurrEval = p.map(targefun, [1,2,3,4,5,6])\n",
        "\n",
        "p.terminate()\n",
        "p.join()\n",
        "print(CurrEval)"
      ],
      "metadata": {
        "id": "G0CHczOh_Jil"
      },
      "execution_count": null,
      "outputs": []
    },
    {
      "cell_type": "code",
      "source": [
        "from multiprocessing import Pool\n",
        "p = Pool(5)\n",
        "\n",
        "def f(x):\n",
        "    return x*x\n",
        "\n",
        "\n",
        "with p:\n",
        "  k=p.map(f, [1,2,3])\n",
        "  print(k)"
      ],
      "metadata": {
        "colab": {
          "base_uri": "https://localhost:8080/"
        },
        "id": "lHgWy0SSXgl_",
        "outputId": "c5f70f2f-7579-44aa-d869-8303d1155e83"
      },
      "execution_count": 6,
      "outputs": [
        {
          "output_type": "stream",
          "name": "stdout",
          "text": [
            "[1, 4, 9]\n"
          ]
        }
      ]
    },
    {
      "cell_type": "code",
      "source": [
        "import multiprocessing\n",
        "from itertools import product\n",
        "\n",
        "def merge_names(a, b):\n",
        "    return '{} & {}'.format(a, b)\n",
        "\n",
        "if __name__ == '__main__':\n",
        "    names = ['Brown', 'Wilson', 'Bartlett', 'Rivera', 'Molloy', 'Opie']\n",
        "    with multiprocessing.Pool(processes=3) as pool:\n",
        "        results = pool.starmap(merge_names, product(names, repeat=2))\n",
        "    print(results)"
      ],
      "metadata": {
        "colab": {
          "base_uri": "https://localhost:8080/"
        },
        "id": "JoFYAUXpSTC1",
        "outputId": "f725d4d1-ea26-4486-fa56-9cda9b654c1a"
      },
      "execution_count": 1,
      "outputs": [
        {
          "output_type": "stream",
          "name": "stdout",
          "text": [
            "['Brown & Brown', 'Brown & Wilson', 'Brown & Bartlett', 'Brown & Rivera', 'Brown & Molloy', 'Brown & Opie', 'Wilson & Brown', 'Wilson & Wilson', 'Wilson & Bartlett', 'Wilson & Rivera', 'Wilson & Molloy', 'Wilson & Opie', 'Bartlett & Brown', 'Bartlett & Wilson', 'Bartlett & Bartlett', 'Bartlett & Rivera', 'Bartlett & Molloy', 'Bartlett & Opie', 'Rivera & Brown', 'Rivera & Wilson', 'Rivera & Bartlett', 'Rivera & Rivera', 'Rivera & Molloy', 'Rivera & Opie', 'Molloy & Brown', 'Molloy & Wilson', 'Molloy & Bartlett', 'Molloy & Rivera', 'Molloy & Molloy', 'Molloy & Opie', 'Opie & Brown', 'Opie & Wilson', 'Opie & Bartlett', 'Opie & Rivera', 'Opie & Molloy', 'Opie & Opie']\n"
          ]
        }
      ]
    },
    {
      "cell_type": "code",
      "source": [
        "import multiprocessing as mp\n",
        "\n",
        "def foo(q, h, w):\n",
        "    q.put(h + ' ' + w)\n",
        "    print(h + ' ' + w)\n",
        "\n",
        "if __name__ == '__main__':\n",
        "    ctx = mp.get_context('spawn')\n",
        "    q = ctx.Queue()\n",
        "    p = ctx.Process(target=foo, args=(q,'hello', 'world'))\n",
        "    p.start()\n",
        "    print(q.get())\n",
        "    p.join()"
      ],
      "metadata": {
        "id": "lXuv_G-WVgzF"
      },
      "execution_count": null,
      "outputs": []
    },
    {
      "cell_type": "code",
      "source": [
        "from functools import partial\n",
        "import multiprocessing\n",
        "p = multiprocessing.Pool(1)\n",
        "targefun = partial(SpikeSortingCoreSSLBCValidTest,NoCells=NoCells,NoChannels=NoChannels, XTrain=x_trainInner, YTrain=y_trainInner, XValid=x_testInner,YValid=y_testInner, XTest=x_testOuter, YTest=y_testOuter, CurrChan=ChanNum, CurrCVVal=0,CurrCVTest=0)\n",
        "CurrEval = p.map(targefun, [FeatureExtractionDeafaultParametrs])\n",
        "p.terminate()\n",
        "p.join()\n",
        "\n",
        "SpikeSortingCoreSSLBCValidTest"
      ],
      "metadata": {
        "colab": {
          "base_uri": "https://localhost:8080/",
          "height": 252
        },
        "id": "EOrzMeX-6bSD",
        "outputId": "bbe50f15-4c40-4b4f-9808-6b1465337b87"
      },
      "execution_count": 3,
      "outputs": [
        {
          "output_type": "error",
          "ename": "NameError",
          "evalue": "ignored",
          "traceback": [
            "\u001b[0;31m---------------------------------------------------------------------------\u001b[0m",
            "\u001b[0;31mNameError\u001b[0m                                 Traceback (most recent call last)",
            "\u001b[0;32m<ipython-input-3-aadc10044ed4>\u001b[0m in \u001b[0;36m<module>\u001b[0;34m\u001b[0m\n\u001b[1;32m      2\u001b[0m \u001b[0;32mimport\u001b[0m \u001b[0mmultiprocessing\u001b[0m\u001b[0;34m\u001b[0m\u001b[0;34m\u001b[0m\u001b[0m\n\u001b[1;32m      3\u001b[0m \u001b[0mp\u001b[0m \u001b[0;34m=\u001b[0m \u001b[0mmultiprocessing\u001b[0m\u001b[0;34m.\u001b[0m\u001b[0mPool\u001b[0m\u001b[0;34m(\u001b[0m\u001b[0;36m1\u001b[0m\u001b[0;34m)\u001b[0m\u001b[0;34m\u001b[0m\u001b[0;34m\u001b[0m\u001b[0m\n\u001b[0;32m----> 4\u001b[0;31m \u001b[0mtargefun\u001b[0m \u001b[0;34m=\u001b[0m \u001b[0mpartial\u001b[0m\u001b[0;34m(\u001b[0m\u001b[0mSpikeSortingCoreSSLBCValidTest\u001b[0m\u001b[0;34m,\u001b[0m\u001b[0mNoCells\u001b[0m\u001b[0;34m=\u001b[0m\u001b[0mNoCells\u001b[0m\u001b[0;34m,\u001b[0m\u001b[0mNoChannels\u001b[0m\u001b[0;34m=\u001b[0m\u001b[0mNoChannels\u001b[0m\u001b[0;34m,\u001b[0m \u001b[0mXTrain\u001b[0m\u001b[0;34m=\u001b[0m\u001b[0mx_trainInner\u001b[0m\u001b[0;34m,\u001b[0m \u001b[0mYTrain\u001b[0m\u001b[0;34m=\u001b[0m\u001b[0my_trainInner\u001b[0m\u001b[0;34m,\u001b[0m \u001b[0mXValid\u001b[0m\u001b[0;34m=\u001b[0m\u001b[0mx_testInner\u001b[0m\u001b[0;34m,\u001b[0m\u001b[0mYValid\u001b[0m\u001b[0;34m=\u001b[0m\u001b[0my_testInner\u001b[0m\u001b[0;34m,\u001b[0m \u001b[0mXTest\u001b[0m\u001b[0;34m=\u001b[0m\u001b[0mx_testOuter\u001b[0m\u001b[0;34m,\u001b[0m \u001b[0mYTest\u001b[0m\u001b[0;34m=\u001b[0m\u001b[0my_testOuter\u001b[0m\u001b[0;34m,\u001b[0m \u001b[0mCurrChan\u001b[0m\u001b[0;34m=\u001b[0m\u001b[0mChanNum\u001b[0m\u001b[0;34m,\u001b[0m \u001b[0mCurrCVVal\u001b[0m\u001b[0;34m=\u001b[0m\u001b[0;36m0\u001b[0m\u001b[0;34m,\u001b[0m\u001b[0mCurrCVTest\u001b[0m\u001b[0;34m=\u001b[0m\u001b[0;36m0\u001b[0m\u001b[0;34m)\u001b[0m\u001b[0;34m\u001b[0m\u001b[0;34m\u001b[0m\u001b[0m\n\u001b[0m\u001b[1;32m      5\u001b[0m \u001b[0mCurrEval\u001b[0m \u001b[0;34m=\u001b[0m \u001b[0mp\u001b[0m\u001b[0;34m.\u001b[0m\u001b[0mmap\u001b[0m\u001b[0;34m(\u001b[0m\u001b[0mtargefun\u001b[0m\u001b[0;34m,\u001b[0m \u001b[0;34m[\u001b[0m\u001b[0mFeatureExtractionDeafaultParametrs\u001b[0m\u001b[0;34m]\u001b[0m\u001b[0;34m)\u001b[0m\u001b[0;34m\u001b[0m\u001b[0;34m\u001b[0m\u001b[0m\n\u001b[1;32m      6\u001b[0m \u001b[0mp\u001b[0m\u001b[0;34m.\u001b[0m\u001b[0mterminate\u001b[0m\u001b[0;34m(\u001b[0m\u001b[0;34m)\u001b[0m\u001b[0;34m\u001b[0m\u001b[0;34m\u001b[0m\u001b[0m\n",
            "\u001b[0;31mNameError\u001b[0m: name 'SpikeSortingCoreSSLBCValidTest' is not defined"
          ]
        }
      ]
    },
    {
      "cell_type": "code",
      "source": [
        "from multiprocessing import Pool\n",
        "from functools import partial\n",
        "\n",
        "def multiply(x, y):\n",
        "    print(x*y)\n",
        "\n",
        "if __name__ == '__main__':\n",
        "    with Pool(3) as p:\n",
        "      p.map(partial(multiply, 5), [1, 2, 3])"
      ],
      "metadata": {
        "colab": {
          "base_uri": "https://localhost:8080/"
        },
        "id": "86QZOQZJEe1C",
        "outputId": "b5d82e64-be6f-47df-96b1-86694d73abb6"
      },
      "execution_count": 13,
      "outputs": [
        {
          "output_type": "stream",
          "name": "stdout",
          "text": [
            "105\n",
            "15\n",
            "\n"
          ]
        }
      ]
    },
    {
      "cell_type": "code",
      "source": [
        "from functools import partial\n",
        "\n",
        "def target(lock, iterable_item):\n",
        "    for item in iterable_item:\n",
        "        # Do cool stuff\n",
        "        if (... some condition here ...):\n",
        "            lock.acquire()\n",
        "            # Write to stdout or logfile, etc.\n",
        "            lock.release()\n",
        "\n",
        "def main():\n",
        "    iterable = [1, 2, 3, 4, 5]\n",
        "    pool = multiprocessing.Pool()\n",
        "    l = multiprocessing.Lock()\n",
        "    func = partial(target, l)\n",
        "    pool.map(func, iterable)\n",
        "    pool.close()\n",
        "    pool.join()"
      ],
      "metadata": {
        "id": "H9WMj25t1o36"
      },
      "execution_count": null,
      "outputs": []
    },
    {
      "cell_type": "code",
      "source": [
        "from multiprocessing import Process, Lock\n",
        "from multiprocessing.sharedctypes import Value, Array\n",
        "from ctypes import Structure, c_double\n",
        "\n",
        "class Point(Structure):\n",
        "    _fields_ = [('x', c_double), ('y', c_double)]\n",
        "\n",
        "def modify(n, x, s, A):\n",
        "    n.value **= 2\n",
        "    x.value **= 2\n",
        "    s.value = s.value.upper()\n",
        "    for a in A:\n",
        "        a.x **= 2\n",
        "        a.y **= 2\n",
        "\n",
        "if __name__ == '__main__':\n",
        "    lock = Lock()\n",
        "\n",
        "    n = Value('i', 7)\n",
        "    x = Value(c_double, 1.0/3.0, lock=False)\n",
        "    s = Array('c', b'hello world', lock=lock)\n",
        "    A = Array(Point, [(1.875,-6.25), (-5.75,2.0), (2.375,9.5)], lock=lock)\n",
        "\n",
        "    p = Process(target=modify, args=(n, x, s, A))\n",
        "    p.start()\n",
        "    p.join()\n",
        "\n",
        "    print(n.value)\n",
        "    print(x.value)\n",
        "    print(s.value)\n",
        "    print([(a.x, a.y) for a in A])"
      ],
      "metadata": {
        "colab": {
          "base_uri": "https://localhost:8080/"
        },
        "id": "DWcqdwYzLhS5",
        "outputId": "21cfae95-7ea4-4e6c-f27c-3b298372c71d"
      },
      "execution_count": 1,
      "outputs": [
        {
          "output_type": "stream",
          "name": "stdout",
          "text": [
            "49\n",
            "0.1111111111111111\n",
            "b'HELLO WORLD'\n",
            "[(3.515625, 39.0625), (33.0625, 4.0), (5.640625, 90.25)]\n"
          ]
        }
      ]
    }
  ]
}