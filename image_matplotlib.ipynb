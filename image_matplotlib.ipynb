{
  "nbformat": 4,
  "nbformat_minor": 0,
  "metadata": {
    "colab": {
      "provenance": [],
      "authorship_tag": "ABX9TyPfOv8mPvAPVojatVjHTSNk",
      "include_colab_link": true
    },
    "kernelspec": {
      "name": "python3",
      "display_name": "Python 3"
    },
    "language_info": {
      "name": "python"
    }
  },
  "cells": [
    {
      "cell_type": "markdown",
      "metadata": {
        "id": "view-in-github",
        "colab_type": "text"
      },
      "source": [
        "<a href=\"https://colab.research.google.com/github/fatisepah/samples/blob/main/image_matplotlib.ipynb\" target=\"_parent\"><img src=\"https://colab.research.google.com/assets/colab-badge.svg\" alt=\"Open In Colab\"/></a>"
      ]
    },
    {
      "cell_type": "code",
      "execution_count": null,
      "metadata": {
        "id": "7U4JDUKOWVub"
      },
      "outputs": [],
      "source": [
        "from matplotlib import pyplot as plt\n",
        "from matplotlib import image as mpimg\n",
        " \n",
        "plt.title(\"Cat Image\")\n",
        "plt.xlabel(\"X pixel scaling\")\n",
        "plt.ylabel(\"Y pixels scaling\")\n",
        " \n",
        "image = mpimg.imread(\"C:\\\\Users\\\\ASUS\\\\Desktop\\\\ss\\\\Cat\\\\OIP (5).jpeg\")\n",
        "plt.imshow(image)\n",
        "plt.show()"
      ]
    }
  ]
}