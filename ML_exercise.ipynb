{
  "nbformat": 4,
  "nbformat_minor": 0,
  "metadata": {
    "colab": {
      "provenance": [],
      "collapsed_sections": [
        "TZpolN0hIMO4"
      ],
      "include_colab_link": true
    },
    "kernelspec": {
      "name": "python3",
      "display_name": "Python 3"
    },
    "language_info": {
      "name": "python"
    },
    "accelerator": "GPU",
    "gpuClass": "standard"
  },
  "cells": [
    {
      "cell_type": "markdown",
      "metadata": {
        "id": "view-in-github",
        "colab_type": "text"
      },
      "source": [
        "<a href=\"https://colab.research.google.com/github/fatisepah/samples/blob/main/ML_exercise.ipynb\" target=\"_parent\"><img src=\"https://colab.research.google.com/assets/colab-badge.svg\" alt=\"Open In Colab\"/></a>"
      ]
    },
    {
      "cell_type": "markdown",
      "source": [
        "<div dir=rtl>\n",
        "\n",
        "#  آزمايش اول: طبقه بندی ارقام دستنویس \n",
        "\n",
        "----\n",
        "\n"
      ],
      "metadata": {
        "id": "HTVgbIsw0ed9"
      }
    },
    {
      "cell_type": "markdown",
      "source": [
        "<div dir=rtl>\n",
        "حتما برای این تمرین از\n",
        "google colab\n",
        "استفاده کنید.\n",
        "در زبانه\n",
        "edit\n",
        "روی \n",
        "notebook settings\n",
        "بزنید و\n",
        "Hardware accelator\n",
        "را بر روی گزینه\n",
        "gpu\n",
        "بگذارید."
      ],
      "metadata": {
        "id": "jaWjZPqEDudg"
      }
    },
    {
      "cell_type": "markdown",
      "source": [
        "<div dir=rtl>\n",
        "در بخش اول این تمرین، مدل هایی را برای طبقه بندی تصاویر موجود در دیتاست \n",
        "mnist\n",
        "طراحی و ترین می کنیم. این دیتاست مجموعه ای استاندارد از اعداد به صورت دستنویس می باشد که در ادامه با آن بیشتر آشنا می شوید و مدل های مختلفی را که در درس یاد گرفته اید، بر روی این دیتاست آزمایش می کنید.\n",
        "\n",
        "شما فقط باید در قسمت هایی که با \n",
        "to do\n",
        "مشخص شده اند کد بزنید و بخش های دیگر تمرین برای شما انجام شده است. مطالعه کدهای زده شده هم خالی از لطف نیست!\n",
        "\n",
        "امیدوارم از انجام دادن این تمرین لذت ببرید :)\n",
        "</div>"
      ],
      "metadata": {
        "id": "OdAxfnRzzqZf"
      }
    },
    {
      "cell_type": "markdown",
      "source": [
        "<div dir=rtl>\n",
        "\n",
        "##    مراحل اولیه پردازش دیتا"
      ],
      "metadata": {
        "id": "8oz3SlWGDr3Z"
      }
    },
    {
      "cell_type": "markdown",
      "source": [
        "<div dir=rtl>\n",
        "\n",
        "###    لود کردن و نمایش دیتاست"
      ],
      "metadata": {
        "id": "04akKACI1WDm"
      }
    },
    {
      "cell_type": "markdown",
      "source": [
        "<div dir=rtl>\n",
        "با استفاده از سلول زیر، دیتاست را لود کنید."
      ],
      "metadata": {
        "id": "lglNML281dZE"
      }
    },
    {
      "cell_type": "code",
      "execution_count": 1,
      "metadata": {
        "id": "VF6c-5gAzckH",
        "colab": {
          "base_uri": "https://localhost:8080/"
        },
        "outputId": "632c2dc2-a70f-44d9-c0f8-7427450c2e74"
      },
      "outputs": [
        {
          "output_type": "stream",
          "name": "stdout",
          "text": [
            "Downloading data from https://storage.googleapis.com/tensorflow/tf-keras-datasets/mnist.npz\n",
            "11493376/11490434 [==============================] - 0s 0us/step\n",
            "11501568/11490434 [==============================] - 0s 0us/step\n"
          ]
        }
      ],
      "source": [
        "import tensorflow as tf\n",
        "(x_train, y_train), (x_test, y_test) = tf.keras.datasets.mnist.load_data()"
      ]
    },
    {
      "cell_type": "code",
      "source": [
        "from google.colab import drive\n",
        "drive.mount('/content/drive')"
      ],
      "metadata": {
        "colab": {
          "base_uri": "https://localhost:8080/"
        },
        "id": "2RZ8ReQKs1NQ",
        "outputId": "f67c2792-2ecd-464b-e510-884fadc87156"
      },
      "execution_count": 2,
      "outputs": [
        {
          "output_type": "stream",
          "name": "stdout",
          "text": [
            "Mounted at /content/drive\n"
          ]
        }
      ]
    },
    {
      "cell_type": "code",
      "source": [
        "print(f'We have {x_train.shape[0]} samples')\n",
        "print(f'Each sample image has {x_train.shape[1]} * {x_train.shape[2]} shape')\n",
        "print(f'We also have {x_test.shape[0]} samples for testing')"
      ],
      "metadata": {
        "id": "cHZihDXK41JZ",
        "colab": {
          "base_uri": "https://localhost:8080/"
        },
        "outputId": "30eb147b-cda3-4461-cbd7-078accdd4842"
      },
      "execution_count": 3,
      "outputs": [
        {
          "output_type": "stream",
          "name": "stdout",
          "text": [
            "We have 60000 samples\n",
            "Each sample image has 28 * 28 shape\n",
            "We also have 10000 samples for testing\n"
          ]
        }
      ]
    },
    {
      "cell_type": "markdown",
      "source": [
        "<div dir=rtl>\n",
        "\n",
        "لینک های زیر را در صورت نیاز مطالعه کنید.\n",
        "\n",
        "https://matplotlib.org/stable/api/_as_gen/matplotlib.pyplot.html\n",
        "\n",
        "https://matplotlib.org/stable/api/_as_gen/matplotlib.pyplot.imshow.html"
      ],
      "metadata": {
        "id": "_LxWBkZlNqUN"
      }
    },
    {
      "cell_type": "code",
      "source": [
        "from matplotlib import pyplot as plt\n",
        "\n",
        "plt.figure(figsize= (10, 10))\n",
        "for i in range(1, 26):\n",
        "    plt.subplot(5, 5, i)\n",
        "    # to do"
      ],
      "metadata": {
        "id": "aJpKam-f197u",
        "colab": {
          "base_uri": "https://localhost:8080/",
          "height": 596
        },
        "outputId": "a061f15d-2fd0-4c97-f621-145e3f240a7e"
      },
      "execution_count": 4,
      "outputs": [
        {
          "output_type": "display_data",
          "data": {
            "text/plain": [
              "<Figure size 720x720 with 25 Axes>"
            ],
            "image/png": "[encoded data removed]"
          },
          "metadata": {
            "needs_background": "light"
          }
        }
      ]
    },
    {
      "cell_type": "markdown",
      "source": [
        "<div dir=rtl>\n",
        "\n",
        "###    پیش پردازش دیتاست"
      ],
      "metadata": {
        "id": "JPJepk853Xce"
      }
    },
    {
      "cell_type": "markdown",
      "source": [
        "<div dir=rtl>\n",
        "تصاویر موجود در دیتاست همه دوبعدی هستند و مدل های ساده ای که در این قسمت میخواهیم از آنها استفاده کنیم، ورودی های یک بعدی می پذیرند. نیاز است که در این قسمت به کمک تابع\n",
        "reshape\n",
        "از کتابخانه\n",
        "numpy\n",
        "تصاویر موجود در دیتاست را به نحو مناسبی یک بعدی کنید."
      ],
      "metadata": {
        "id": "wRyHE1HW4Rqp"
      }
    },
    {
      "cell_type": "code",
      "source": [
        "print(x_train.shape)\n",
        "print(x_test.shape)\n",
        "\n",
        "x_train = x_train.reshape(-1)\n",
        "x_test = x_test.reshape(-1)\n",
        "\n",
        "print(x_train.shape)\n",
        "print(x_test.shape)"
      ],
      "metadata": {
        "id": "IzU7kNi84PfM",
        "colab": {
          "base_uri": "https://localhost:8080/"
        },
        "outputId": "d76ade56-3069-497d-fa86-7ae399d4ccf1"
      },
      "execution_count": 5,
      "outputs": [
        {
          "output_type": "stream",
          "name": "stdout",
          "text": [
            "(60000, 28, 28)\n",
            "(10000, 28, 28)\n",
            "(47040000,)\n",
            "(7840000,)\n"
          ]
        }
      ]
    },
    {
      "cell_type": "markdown",
      "source": [
        "<div dir=rtl>\n",
        "پیکسل های هر تصویر یا با اعداد صحیح از 0 تا 255 مشخص می شوند و یا اعداد اعشاری بین 0 و 1. برای یادگیری بهتر مدل ها در حوزه یادگیری ماشین، معمولا مقادیر را به بازه 0 تا 1 می آورند. در سلول زیر اینکار را انجام دهید.\n"
      ],
      "metadata": {
        "id": "WySDq07a6_HY"
      }
    },
    {
      "cell_type": "code",
      "source": [
        "import numpy as np\n",
        "\n",
        "print(np.max(x_train))\n",
        "print(np.max(x_test))\n",
        "\n",
        "# to do\n",
        "x_train=x_train.reshape(60000,784).astype(\"float32\")/255\n",
        "x_test=x_test.reshape(10000,784).astype(\"float32\")/255\n",
        "print(np.max(x_train))\n",
        "print(np.max(x_test))"
      ],
      "metadata": {
        "id": "p02hn1EM62qa",
        "colab": {
          "base_uri": "https://localhost:8080/"
        },
        "outputId": "28afedba-4078-4f7e-c114-bcc16309bb97"
      },
      "execution_count": 6,
      "outputs": [
        {
          "output_type": "stream",
          "name": "stdout",
          "text": [
            "255\n",
            "255\n",
            "1.0\n",
            "1.0\n"
          ]
        }
      ]
    },
    {
      "cell_type": "markdown",
      "source": [
        "<div dir=rtl>\n",
        "\n",
        "##    ترین کردن مدل ها"
      ],
      "metadata": {
        "id": "l9yOC-EpDmjz"
      }
    },
    {
      "cell_type": "markdown",
      "source": [
        "<div dir=rtl>\n",
        "با استفاده از سلول زیر، مدل شما تست می شود. آن را تغییر ندهید و بعد از ترین کردن هر مدل، سلول بعدی آن را ران کنید تا تست شود.\n",
        "\n",
        "دقت کنید که اسم مدل ها را حتما\n",
        "model\n",
        "قرار دهید تا در سلول تست به مشکلی برنخورید."
      ],
      "metadata": {
        "id": "gFHIMEGaHXQP"
      }
    },
    {
      "cell_type": "code",
      "source": [
        "from sklearn.metrics import accuracy_score, confusion_matrix\n",
        "import seaborn as sns\n",
        "\n",
        "def test(model):\n",
        "\n",
        "    y_pred = model.predict(x_test)\n",
        "    acc = accuracy_score(y_test, y_pred)\n",
        "    cm = confusion_matrix(y_test, y_pred)\n",
        "\n",
        "    print(f'Accuracy of your model is {acc:.3f}')\n",
        "    print('Your confustion matrix is:')\n",
        "    s = sns.heatmap(cm, annot=True, fmt='d')\n",
        "    s.set(xlabel='True labels', ylabel='Predicted labels')\n",
        "    plt.show() \n",
        "\n",
        "    print('Some random tests:')\n",
        "    random_indexs = np.random.choice(x_test.shape[0], 8)\n",
        "    plt.figure(figsize= (15, 10))\n",
        "    for i in range(1, 9):\n",
        "        plt.subplot(1, 8, i)\n",
        "        plt.imshow(x_test[random_indexs[i-1]].reshape(28, 28))\n",
        "        plt.title(f'Prediction is {y_pred[random_indexs[i-1]]}')\n",
        "        plt.axis(False)"
      ],
      "metadata": {
        "id": "TChY7B6VD2FZ"
      },
      "execution_count": 7,
      "outputs": []
    },
    {
      "cell_type": "markdown",
      "source": [
        "<div dir=rtl>\n",
        "\n",
        "###    Gaussian Naive Bayes"
      ],
      "metadata": {
        "id": "FRPTRD42DR3v"
      }
    },
    {
      "cell_type": "markdown",
      "source": [
        "<div dir=rtl>\n",
        "صفحه زیر را مطالعه کنید:\n",
        "\n",
        "https://scikit-learn.org/stable/modules/naive_bayes.html\n"
      ],
      "metadata": {
        "id": "RTI6Bbc3DVb5"
      }
    },
    {
      "cell_type": "code",
      "source": [
        "from sklearn.naive_bayes import GaussianNB\n",
        "\n",
        "# to do"
      ],
      "metadata": {
        "id": "2d6Did3nDLqg"
      },
      "execution_count": null,
      "outputs": []
    },
    {
      "cell_type": "code",
      "source": [
        "test(model)"
      ],
      "metadata": {
        "id": "a0FeIwH_EM3I",
        "colab": {
          "base_uri": "https://localhost:8080/",
          "height": 165
        },
        "outputId": "d6e0e438-8e66-4e89-cc6b-dc50c73f2fc1"
      },
      "execution_count": null,
      "outputs": [
        {
          "output_type": "error",
          "ename": "NameError",
          "evalue": "ignored",
          "traceback": [
            "\u001b[0;31m---------------------------------------------------------------------------\u001b[0m",
            "\u001b[0;31mNameError\u001b[0m                                 Traceback (most recent call last)",
            "\u001b[0;32m<ipython-input-3-5bfdcc797401>\u001b[0m in \u001b[0;36m<module>\u001b[0;34m\u001b[0m\n\u001b[0;32m----> 1\u001b[0;31m \u001b[0mtest\u001b[0m\u001b[0;34m(\u001b[0m\u001b[0mmodel\u001b[0m\u001b[0;34m)\u001b[0m\u001b[0;34m\u001b[0m\u001b[0;34m\u001b[0m\u001b[0m\n\u001b[0m",
            "\u001b[0;31mNameError\u001b[0m: name 'model' is not defined"
          ]
        }
      ]
    },
    {
      "cell_type": "markdown",
      "source": [
        "<div dir=rtl>\n",
        "\n",
        "###    Desicion Tree"
      ],
      "metadata": {
        "id": "TZpolN0hIMO4"
      }
    },
    {
      "cell_type": "markdown",
      "source": [
        "<div dir=rtl>\n",
        "صفحه زیر را مطالعه کنید:\n",
        "\n",
        "https://scikit-learn.org/stable/modules/tree.html"
      ],
      "metadata": {
        "id": "hcaMFgBYIoH8"
      }
    },
    {
      "cell_type": "code",
      "source": [
        "from sklearn.tree import DecisionTreeClassifier\n",
        "\n",
        "# to do"
      ],
      "metadata": {
        "id": "6w22mhWoIRU0"
      },
      "execution_count": null,
      "outputs": []
    },
    {
      "cell_type": "code",
      "source": [
        "test(model)"
      ],
      "metadata": {
        "id": "LOlwGy9vIllE"
      },
      "execution_count": null,
      "outputs": []
    },
    {
      "cell_type": "markdown",
      "source": [
        "<div dir=rtl>\n",
        "\n",
        "###    Random Forest"
      ],
      "metadata": {
        "id": "ZxRuEccfLD7I"
      }
    },
    {
      "cell_type": "markdown",
      "source": [
        "<div dir=rtl>\n",
        "صفحه زیر را مطالعه کنید:\n",
        "\n",
        "https://scikit-learn.org/stable/modules/generated/sklearn.ensemble.RandomForestClassifier.html\n",
        "\n",
        "در صورت نیاز در پارامترهای  \n",
        "n_estimators\n",
        "و\n",
        "max_depth\n",
        "تغییرات ایجاد کنید تا به بهترین نتیجه برسید."
      ],
      "metadata": {
        "id": "S9GtgOl8LD7K"
      }
    },
    {
      "cell_type": "code",
      "source": [
        "from sklearn.ensemble import RandomForestClassifier\n",
        "\n",
        "# to do"
      ],
      "metadata": {
        "id": "y-N1N0alLD7M"
      },
      "execution_count": null,
      "outputs": []
    },
    {
      "cell_type": "code",
      "source": [
        "test(model)"
      ],
      "metadata": {
        "id": "YIBlqnCjLD7N"
      },
      "execution_count": null,
      "outputs": []
    },
    {
      "cell_type": "markdown",
      "source": [
        "<div dir=rtl>\n",
        "\n",
        "###    Logistic Regression"
      ],
      "metadata": {
        "id": "s4BPXsPh-dEN"
      }
    },
    {
      "cell_type": "markdown",
      "source": [
        "<div dir=rtl>\n",
        "صفحه زیر را مطالعه کنید:\n",
        "\n",
        "https://scikit-learn.org/stable/modules/generated/sklearn.linear_model.LogisticRegression.html\n",
        "\n",
        "در صورت نیاز در پارامتر \n",
        "max_iter\n",
        "تغییرات ایجاد کنید تا به بهترین نتیجه برسید."
      ],
      "metadata": {
        "id": "rdm_6Y7PAPOm"
      }
    },
    {
      "cell_type": "code",
      "source": [
        "from sklearn.linear_model import LogisticRegression\n",
        "\n",
        "# to do"
      ],
      "metadata": {
        "id": "5trcA_Ep-gnM"
      },
      "execution_count": null,
      "outputs": []
    },
    {
      "cell_type": "code",
      "source": [
        "test(model)"
      ],
      "metadata": {
        "id": "Jkh3s5v_HpD-"
      },
      "execution_count": null,
      "outputs": []
    },
    {
      "cell_type": "markdown",
      "source": [
        "<div dir=rtl>\n",
        "\n",
        "###    SVM"
      ],
      "metadata": {
        "id": "LI79bLtb7hlT"
      }
    },
    {
      "cell_type": "markdown",
      "source": [
        "<div dir=rtl>\n",
        "صفحه زیر را مطالعه کنید:\n",
        "\n",
        "https://scikit-learn.org/stable/modules/generated/sklearn.svm.SVC.html\n",
        "\n",
        "در صورت نیاز در پارامتر \n",
        "C\n",
        "تغییرات ایجاد کنید تا به بهترین نتیجه برسید."
      ],
      "metadata": {
        "id": "yNGINuggCxhb"
      }
    },
    {
      "cell_type": "code",
      "source": [
        "from sklearn.svm import SVC\n",
        "\n",
        "# to do"
      ],
      "metadata": {
        "id": "0-Vuf3N-7pHg"
      },
      "execution_count": null,
      "outputs": []
    },
    {
      "cell_type": "code",
      "source": [
        "test(model)"
      ],
      "metadata": {
        "id": "if9x_JW_9UKC"
      },
      "execution_count": null,
      "outputs": []
    },
    {
      "cell_type": "markdown",
      "source": [
        "<div dir=rtl>\n",
        "\n",
        "###    MLP"
      ],
      "metadata": {
        "id": "4EGdI5AhIvEV"
      }
    },
    {
      "cell_type": "markdown",
      "source": [
        "<div dir=rtl>\n",
        "صفحه زیر را مطالعه کنید:\n",
        "\n",
        "https://scikit-learn.org/stable/modules/generated/sklearn.neural_network.MLPClassifier.html\n",
        "\n",
        "در صورت نیاز در پارامتر \n",
        "hidden_layer_sizes\n",
        "تغییرات ایجاد کنید تا به بهترین نتیجه برسید.\n",
        " مثال هایی در لینک ارائه شده است، ولی در صورت نیاز به توضیح بیشتر در گروه مطرح کنید."
      ],
      "metadata": {
        "id": "U6GP75iwKjPz"
      }
    },
    {
      "cell_type": "code",
      "source": [
        "from sklearn.neural_network import MLPClassifier\n",
        "\n",
        "# to do"
      ],
      "metadata": {
        "id": "SQAKPazWIwN8"
      },
      "execution_count": null,
      "outputs": []
    },
    {
      "cell_type": "code",
      "source": [
        "test(model)"
      ],
      "metadata": {
        "id": "VVuL3sK_K6cb"
      },
      "execution_count": null,
      "outputs": []
    }
  ]
}