{
  "nbformat": 4,
  "nbformat_minor": 0,
  "metadata": {
    "colab": {
      "provenance": [],
      "authorship_tag": "ABX9TyNipmCXmr6QltnFoActysCW",
      "include_colab_link": true
    },
    "kernelspec": {
      "name": "python3",
      "display_name": "Python 3"
    },
    "language_info": {
      "name": "python"
    }
  },
  "cells": [
    {
      "cell_type": "markdown",
      "metadata": {
        "id": "view-in-github",
        "colab_type": "text"
      },
      "source": [
        "<a href=\"https://colab.research.google.com/github/fatisepah/samples/blob/main/Untitled9.ipynb\" target=\"_parent\"><img src=\"https://colab.research.google.com/assets/colab-badge.svg\" alt=\"Open In Colab\"/></a>"
      ]
    },
    {
      "cell_type": "code",
      "execution_count": null,
      "metadata": {
        "id": "tvKCCqvuMUCj"
      },
      "outputs": [],
      "source": [
        "from keras import models\n",
        "from tensorflow import keras\n",
        "from keras import layers\n"
      ]
    },
    {
      "cell_type": "code",
      "source": [
        "#Loading MNIST and splitting into training and testing datasets\n",
        "\n",
        "(x_train,y_train),(x_test,y_test)=keras.datasets.mnist.load_data()\n",
        "\n",
        "#Reshaping image dimensions & Normalization\n",
        "x_train=x_train.reshape(60000,784).astype(\"float32\")/255\n",
        "x_test=x_test.reshape(10000,784).astype(\"float32\")/255\n",
        "\n",
        "y_train=y_train.astype(\"float32\")\n",
        "y_test=y_test.astype(\"float32\")\n",
        "\n",
        "#reserve 10000 samples for validation\n",
        "x_val=x_train[-10000:]\n",
        "y_val=y_train[-10000:]\n",
        "\n",
        "x_train=x_train[:-10000]\n",
        "y_train=y_train[:-10000]"
      ],
      "metadata": {
        "id": "UP9oDyKYMeky",
        "colab": {
          "base_uri": "https://localhost:8080/"
        },
        "outputId": "414c28ff-bf5b-47dc-97e0-72644aaa6693"
      },
      "execution_count": null,
      "outputs": [
        {
          "output_type": "stream",
          "name": "stdout",
          "text": [
            "Downloading data from https://storage.googleapis.com/tensorflow/tf-keras-datasets/mnist.npz\n",
            "11490434/11490434 [==============================] - 0s 0us/step\n"
          ]
        }
      ]
    },
    {
      "cell_type": "code",
      "source": [
        "#define model\n",
        "model=keras.models.Sequential([\n",
        "    layers.Dense(256,activation=\"relu\",input_shape=(784,)),\n",
        "                               layers.Dense(128,activation=\"relu\"),\n",
        "                               layers.Dense(10)\n",
        "                               ])\n",
        "model.summary()\n",
        "\n"
      ],
      "metadata": {
        "colab": {
          "base_uri": "https://localhost:8080/"
        },
        "id": "sg3p3CWcMlPC",
        "outputId": "4fb3433f-1bba-4d4f-d729-2c847929e840"
      },
      "execution_count": null,
      "outputs": [
        {
          "output_type": "stream",
          "name": "stdout",
          "text": [
            "Model: \"sequential\"\n",
            "_________________________________________________________________\n",
            " Layer (type)                Output Shape              Param #   \n",
            "=================================================================\n",
            " dense (Dense)               (None, 256)               200960    \n",
            "                                                                 \n",
            " dense_1 (Dense)             (None, 128)               32896     \n",
            "                                                                 \n",
            " dense_2 (Dense)             (None, 10)                1290      \n",
            "                                                                 \n",
            "=================================================================\n",
            "Total params: 235,146\n",
            "Trainable params: 235,146\n",
            "Non-trainable params: 0\n",
            "_________________________________________________________________\n"
          ]
        }
      ]
    },
    {
      "cell_type": "code",
      "source": [
        "from tensorflow.python import metrics\n",
        "#define loss function variable\n",
        "loss_fn=keras.losses.SparseCategoricalCrossentropy(from_logits=True)\n",
        "\n",
        "#define optimizer,loss function and evaluation metric\n",
        "model.compile(optimizer=\"adam\",\n",
        "              loss=loss_fn,\n",
        "              metrics=[\"accuracy\"])\n",
        "\n"
      ],
      "metadata": {
        "id": "LycPHn4NMnVD"
      },
      "execution_count": null,
      "outputs": []
    },
    {
      "cell_type": "code",
      "source": [
        "#train the model\n",
        "model.fit(x_train,y_train,epochs=5,batch_size=32,validation_data=(x_val,y_val))"
      ],
      "metadata": {
        "colab": {
          "base_uri": "https://localhost:8080/"
        },
        "id": "SB5FtXdmV2kp",
        "outputId": "409de393-5eee-45f0-eae2-9faf8f9eb3a5"
      },
      "execution_count": null,
      "outputs": [
        {
          "output_type": "stream",
          "name": "stdout",
          "text": [
            "Epoch 1/5\n",
            "1563/1563 [==============================] - 8s 5ms/step - loss: 0.2244 - accuracy: 0.9329 - val_loss: 0.1177 - val_accuracy: 0.9654\n",
            "Epoch 2/5\n",
            "1563/1563 [==============================] - 8s 5ms/step - loss: 0.0909 - accuracy: 0.9720 - val_loss: 0.1136 - val_accuracy: 0.9646\n",
            "Epoch 3/5\n",
            "1563/1563 [==============================] - 7s 5ms/step - loss: 0.0614 - accuracy: 0.9803 - val_loss: 0.0802 - val_accuracy: 0.9753\n",
            "Epoch 4/5\n",
            "1563/1563 [==============================] - 7s 5ms/step - loss: 0.0454 - accuracy: 0.9859 - val_loss: 0.0863 - val_accuracy: 0.9743\n",
            "Epoch 5/5\n",
            "1563/1563 [==============================] - 7s 4ms/step - loss: 0.0352 - accuracy: 0.9882 - val_loss: 0.0970 - val_accuracy: 0.9736\n"
          ]
        },
        {
          "output_type": "execute_result",
          "data": {
            "text/plain": [
              "<keras.callbacks.History at 0x7f6554dcd650>"
            ]
          },
          "metadata": {},
          "execution_count": 5
        }
      ]
    },
    {
      "cell_type": "code",
      "source": [
        "#test model accuracy on test set\n",
        "model.evaluate(x_test,y_test,verbose=2)"
      ],
      "metadata": {
        "colab": {
          "base_uri": "https://localhost:8080/"
        },
        "id": "53TZlK-sM6RS",
        "outputId": "5654b3da-5697-41bf-d1da-f17dfdd8e301"
      },
      "execution_count": null,
      "outputs": [
        {
          "output_type": "stream",
          "name": "stdout",
          "text": [
            "313/313 - 1s - loss: 0.0957 - accuracy: 0.9733 - 646ms/epoch - 2ms/step\n"
          ]
        },
        {
          "output_type": "execute_result",
          "data": {
            "text/plain": [
              "[0.09565544128417969, 0.9732999801635742]"
            ]
          },
          "metadata": {},
          "execution_count": 6
        }
      ]
    }
  ]
}
