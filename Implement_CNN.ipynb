{
  "nbformat": 4,
  "nbformat_minor": 0,
  "metadata": {
    "colab": {
      "provenance": [],
      "authorship_tag": "ABX9TyPsmHugzgV0bC2XAzPTcPeR",
      "include_colab_link": true
    },
    "kernelspec": {
      "name": "python3",
      "display_name": "Python 3"
    },
    "language_info": {
      "name": "python"
    }
  },
  "cells": [
    {
      "cell_type": "markdown",
      "metadata": {
        "id": "view-in-github",
        "colab_type": "text"
      },
      "source": [
        "<a href=\"https://colab.research.google.com/github/fatisepah/samples/blob/CNN-from-scratch/Implement_CNN.ipynb\" target=\"_parent\"><img src=\"https://colab.research.google.com/assets/colab-badge.svg\" alt=\"Open In Colab\"/></a>"
      ]
    },
    {
      "cell_type": "code",
      "execution_count": null,
      "metadata": {
        "id": "vVlSiMA7gqhQ"
      },
      "outputs": [],
      "source": [
        "import numpy as np\n",
        "from skimage.util.shape import view_as_windows\n",
        "from numpy.lib.stride_tricks import as_strided\n",
        " \n",
        "# *******************************************************************************\n",
        "# Input Layer\n",
        "# *******************************************************************************\n",
        " \n",
        "input_data_list= [\n",
        "[-1,1,1, 1, -1],\n",
        "[-1,1,-1, 1,-1],\n",
        "[-1,1, 1, 1,-1],\n",
        "[-1,-1,-1,1,-1],\n",
        "[-1,-1,-1,1,-1],\n",
        "[-1,-1,1,-1,-1],\n",
        "[-1,1,-1,-1,-1]\n",
        " \n",
        "]\n",
        " \n",
        "# Convert list to input data matrix\n",
        "input_data_matrix = np.asarray(input_data_list, dtype=np.float32)"
      ]
    },
    {
      "cell_type": "code",
      "source": [
        "# *******************************************************************************\n",
        "# Convolution layer (convolution operation)\n",
        "# *******************************************************************************\n",
        " \n",
        "box_filter_list = [\n",
        "[1, 1,1],\n",
        "[1,-1,1],\n",
        "[1, 1,1]\n",
        " \n",
        "]\n",
        " \n",
        "vertical_line_Filter_list = [\n",
        "[-1, 1, -1],\n",
        "[-1, 1, -1],\n",
        "[-1, 1, -1]\n",
        " \n",
        "]\n",
        " \n",
        "Diagonal_line_Filter_list = [\n",
        "[-1, -1, 1],\n",
        "[-1, 1, -1],\n",
        "[1, -1, -1]\n",
        " \n",
        "]\n",
        " \n",
        "# Convert all filter list into matrix\n",
        "box_filter_matrix = np.asarray(box_filter_list, dtype=np.float32)\n",
        "vertical_line_Filter_matrix = np.asarray(vertical_line_Filter_list, dtype=np.float32)\n",
        "Diagonal_line_Filter_matrix = np.asarray(Diagonal_line_Filter_list, dtype=np.float32)\n",
        " \n",
        "# Extract each window from input matrix  by stride operation\n",
        "def strided4D_v2(input_image_matrix,kernal_matrix,stride):\n",
        "    return view_as_windows(input_image_matrix, kernal_matrix.shape, step=stride)\n",
        " \n",
        "# Calculate shape of the feature map (output matrix from convolution layer)\n",
        "featureMap_row = strided4D_v2(input_data_matrix, box_filter_matrix, 1).shape[0]\n",
        "featureMap_col = strided4D_v2(input_data_matrix, box_filter_matrix, 1).shape[1]\n",
        " \n",
        "# Function to Calculate featuremap matrix for box filter\n",
        "def conv2d(input_matrix, kernal_matrix):\n",
        "    # Create blank featureMap matrix for stride 1\n",
        "    featureMap_Output = np.zeros((featureMap_row, featureMap_col))\n",
        " \n",
        "    for row in range(featureMap_row):\n",
        "        for col in range(featureMap_col):\n",
        "            window = strided4D_v2(input_matrix, kernal_matrix, 1)[row][col]\n",
        "            featureMap_Output[row, col] = np.sum(np.multiply(kernal_matrix, window))\n",
        " \n",
        "            # # To Format floats in a numpy array\n",
        "            np.set_printoptions(precision=2)\n",
        "            # Taking average with divided by 9 (total number of element in filter matrix)\n",
        "            total_number_of_element_in_filter_matrix = kernal_matrix.shape[0] * kernal_matrix.shape[0]\n",
        "    return (featureMap_Output / total_number_of_element_in_filter_matrix)\n",
        " \n",
        "# ------------------------------------------------------------------------\n",
        "# Box Filter operation\n",
        "# ------------------------------------------------------------------------\n",
        "# Create blank featureMap matrix for stride 1\n",
        "featureMap_Box = conv2d(input_data_matrix, box_filter_matrix)\n",
        "print(featureMap_Box)\n",
        " \n",
        "# ------------------------------------------------------------------------\n",
        "# Vertical line Filter operation\n",
        "# ------------------------------------------------------------------------\n",
        "featureMap_Vertical = conv2d(input_data_matrix, vertical_line_Filter_matrix)\n",
        "# print(featureMap_Vertical)\n",
        " \n",
        "# ------------------------------------------------------------------------\n",
        "# Diagonal line Filter operation\n",
        "# ------------------------------------------------------------------------\n",
        "# Output after applying Diagonal line Filter with stride 1\n",
        "featureMap_Diagonal = conv2d(input_data_matrix, Diagonal_line_Filter_matrix)\n",
        "# print(featureMap_Diagonal)"
      ],
      "metadata": {
        "colab": {
          "base_uri": "https://localhost:8080/"
        },
        "id": "hVjBTDyGg8QO",
        "outputId": "67453c7f-17b5-4725-9ef4-895eb342bdab"
      },
      "execution_count": null,
      "outputs": [
        {
          "output_type": "stream",
          "name": "stdout",
          "text": [
            "[[-0.11  1.   -0.11]\n",
            " [-0.56  0.11 -0.33]\n",
            " [-0.33  0.33 -0.33]\n",
            " [-0.56 -0.11 -0.56]\n",
            " [-0.33 -0.56 -0.33]]\n"
          ]
        }
      ]
    },
    {
      "cell_type": "code",
      "source": [
        "# *******************************************************************************\n",
        "# ReLu Operation\n",
        "# *******************************************************************************\n",
        "featureMap_Box_ReLu = np.maximum(featureMap_Box, 0)\n",
        "featureMap_Vertical_ReLu = np.maximum(featureMap_Vertical, 0)\n",
        "featureMap_Diagonal_ReLu = np.maximum(featureMap_Diagonal, 0)\n",
        " \n",
        "print(featureMap_Box_ReLu)"
      ],
      "metadata": {
        "colab": {
          "base_uri": "https://localhost:8080/"
        },
        "id": "wdAUg76n3lXx",
        "outputId": "d43e8991-0523-4d99-d923-7d788e7bae4f"
      },
      "execution_count": null,
      "outputs": [
        {
          "output_type": "stream",
          "name": "stdout",
          "text": [
            "[[0.   1.   0.  ]\n",
            " [0.   0.11 0.  ]\n",
            " [0.   0.33 0.  ]\n",
            " [0.   0.   0.  ]\n",
            " [0.   0.   0.  ]]\n"
          ]
        }
      ]
    },
    {
      "cell_type": "code",
      "source": [
        "# *******************************************************************************\n",
        "# Pooling Layer\n",
        "# *******************************************************************************\n",
        " \n",
        "# Pooling function with stride using python and numpy\n",
        "def pool2d(input_matrix, kernel_size, stride, padding, pool_mode='max'):\n",
        " \n",
        "    # Padding\n",
        "    input_matrix = np.pad(input_matrix, padding, mode='constant')\n",
        " \n",
        "    # Window view of input_matrix\n",
        "    output_shape = ((input_matrix.shape[0] - kernel_size)//stride + 1,\n",
        "                    (input_matrix.shape[1] - kernel_size)//stride + 1)\n",
        "    kernel_size = (kernel_size, kernel_size)\n",
        "    input_matrix_w = as_strided(input_matrix, shape = output_shape + kernel_size,\n",
        "                        strides = (stride*input_matrix.strides[0],\n",
        "                                   stride*input_matrix.strides[1]) + input_matrix.strides)\n",
        "    input_matrix_w = input_matrix_w.reshape(-1, *kernel_size)\n",
        " \n",
        "    # Return the result of pooling\n",
        "    # For Max Pooling\n",
        "    if pool_mode == 'max':\n",
        "        return input_matrix_w.max(axis=(1,2)).reshape(output_shape)\n",
        "    # For Average Pooling\n",
        "    elif pool_mode == 'avg':\n",
        "        return input_matrix_w.mean(axis=(1,2)).reshape(output_shape)\n",
        " \n",
        "# Max Pooling with 2x2 filter & Stride = 1\n",
        "featureMap_Box_ReLu_MaxPool = pool2d(featureMap_Box_ReLu, kernel_size=2, stride=1, padding=0, pool_mode='max')\n",
        "featureMap_Vertical_ReLu_MaxPool = pool2d(featureMap_Vertical_ReLu, kernel_size=2, stride=1, padding=0, pool_mode='max')\n",
        "featureMap_Diagonal_ReLu_MaxPool = pool2d(featureMap_Diagonal_ReLu, kernel_size=2, stride=1, padding=0, pool_mode='max')\n",
        "print(featureMap_Box_ReLu_MaxPool)"
      ],
      "metadata": {
        "colab": {
          "base_uri": "https://localhost:8080/"
        },
        "id": "m39Rrp6H6T2o",
        "outputId": "0db5f130-8a7b-4a04-f9c6-c93173a0d44b"
      },
      "execution_count": null,
      "outputs": [
        {
          "output_type": "stream",
          "name": "stdout",
          "text": [
            "[[1.   1.  ]\n",
            " [0.33 0.33]\n",
            " [0.33 0.33]\n",
            " [0.   0.  ]]\n"
          ]
        }
      ]
    },
    {
      "cell_type": "code",
      "source": [
        "# *******************************************************************************\n",
        "# Fully Connected Layer\n",
        "# *******************************************************************************\n",
        "# Convert array to list\n",
        "featureMap_Box_ReLu_MaxPool_list = featureMap_Box_ReLu_MaxPool.tolist()\n",
        "featureMap_Vertical_ReLu_MaxPool_list = featureMap_Diagonal_ReLu_MaxPool.tolist()\n",
        "featureMap_Diagonal_ReLu_MaxPool_list = featureMap_Diagonal_ReLu_MaxPool.tolist()\n",
        "print(featureMap_Box_ReLu_MaxPool_list)\n",
        " \n",
        "# Convert list of list to flat list\n",
        "featureMap_Box_ReLu_MaxPool_FlatList = [item for sublist in featureMap_Box_ReLu_MaxPool_list for item in sublist]\n",
        "featureMap_Vertical_ReLu_MaxPool_FlatList = [item for sublist in featureMap_Vertical_ReLu_MaxPool_list for item in sublist]\n",
        "featureMap_Diagonal_ReLu_MaxPool_FlatList = [item for sublist in featureMap_Diagonal_ReLu_MaxPool_list for item in sublist]\n",
        "print(featureMap_Box_ReLu_MaxPool_FlatList)\n",
        " \n",
        "# Stack all flat list data\n",
        "input_to_basic_neural_network = featureMap_Box_ReLu_MaxPool_FlatList + featureMap_Vertical_ReLu_MaxPool_FlatList + featureMap_Diagonal_ReLu_MaxPool_FlatList"
      ],
      "metadata": {
        "colab": {
          "base_uri": "https://localhost:8080/"
        },
        "id": "nETzEq067X14",
        "outputId": "376c4069-3e14-43c3-db70-7b1683012ac6"
      },
      "execution_count": null,
      "outputs": [
        {
          "output_type": "stream",
          "name": "stdout",
          "text": [
            "[[1.0, 1.0], [0.3333333333333333, 0.3333333333333333], [0.3333333333333333, 0.3333333333333333], [0.0, 0.0]]\n",
            "[1.0, 1.0, 0.3333333333333333, 0.3333333333333333, 0.3333333333333333, 0.3333333333333333, 0.0, 0.0]\n"
          ]
        }
      ]
    }
  ]
}